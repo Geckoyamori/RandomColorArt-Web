{
 "cells": [
  {
   "cell_type": "code",
   "execution_count": 6,
   "id": "8f74adae-3218-4de5-b99d-3f8aeb432fa0",
   "metadata": {},
   "outputs": [
    {
     "data": {
      "application/vnd.jupyter.widget-view+json": {
       "model_id": "455e874b04b0494087c3551c17118a99",
       "version_major": 2,
       "version_minor": 0
      },
      "text/plain": [
       "interactive(children=(IntSlider(value=1, description='mdb_rate', min=1), Output()), _dom_classes=('widget-inte…"
      ]
     },
     "metadata": {},
     "output_type": "display_data"
    }
   ],
   "source": [
    "from ipywidgets import interact,IntSlider\n",
    "import matplotlib.pyplot as plt\n",
    "import numpy as np\n",
    "%matplotlib inline\n",
    " \n",
    "h,w = 1000,1000\n",
    "y,x = np.ogrid[ -1.4:1.4:h*1j, -2:0.8:w*1j ]\n",
    "c = x+y*1j\n",
    " \n",
    "def mandelbro_plt(rate=30):\n",
    "    z = c\n",
    "    times = rate + np.zeros(z.shape, dtype=int)\n",
    "    for i in range(rate):\n",
    "        z = z**2 + c\n",
    "        diverge = z*np.conj(z) > 2**2\n",
    "        div = diverge & (times==rate)\n",
    "        times[div] = i\n",
    "        z[diverge] = 2\n",
    "    return times\n",
    " \n",
    "mdb_rate = IntSlider(min=1, max=100, step=1, value=1)\n",
    "@interact(mdb_rate=mdb_rate)\n",
    "def plot(mdb_rate):\n",
    "    plt.figure(figsize=(10,10))\n",
    "    plt.imshow(mandelbro_plt(mdb_rate))\n",
    "    plt.show()"
   ]
  },
  {
   "cell_type": "code",
   "execution_count": null,
   "id": "0cfa2977-8c36-4175-9391-db9787202641",
   "metadata": {
    "tags": []
   },
   "outputs": [],
   "source": [
    "import turtle\n",
    "import random\n",
    "\n",
    "# setup the window with a background colour\n",
    "wn = turtle.Screen()\n",
    "wn.bgcolor(\"#EFECCA\")\n",
    "wn.setup(width=250, height=250) \n",
    "\n",
    "# assign a name to your turtle\n",
    "turtle = turtle.Turtle()\n",
    "\n",
    "colors = [\"#7D8A2E\", \"#263248\", \"#FF8C00\", \"#F0C600\"]\n",
    "\n",
    "#\n",
    "def snowflake(size, pensize, x, y):\n",
    "    \"\"\" function that draws a snowflake \"\"\"\n",
    "    # turtle.pen(pensize=10)\n",
    "    turtle.penup()\n",
    "    turtle.goto(x, y)\n",
    "    turtle.forward(10*size)\n",
    "    turtle.left(45)\n",
    "    turtle.pendown()\n",
    "    turtle.color(random.choice(colors))\n",
    "\n",
    "    for i in range(8):\n",
    "        branch(size)\n",
    "        turtle.left(45)\n",
    "\n",
    "\n",
    "# create one branch of the snowflake\n",
    "def branch(size):\n",
    "    for i in range(3):\n",
    "        for i in range(3):\n",
    "            turtle.forward(10.0*size/3)\n",
    "            turtle.backward(10.0*size/3)\n",
    "            turtle.right(45)\n",
    "        turtle.left(90)\n",
    "        turtle.backward(10.0*size/3)\n",
    "        turtle.left(45)\n",
    "    turtle.right(90)\n",
    "    turtle.forward(10.0*size)\n",
    "\n",
    "snowflake(8, 6, 0, 0)\n",
    "\n",
    "# leave the window open until you click to close\n",
    "wn.exitonclick()"
   ]
  },
  {
   "cell_type": "code",
   "execution_count": null,
   "id": "16ea74ab-c04f-4c11-81b4-01c6b0a53be1",
   "metadata": {},
   "outputs": [],
   "source": []
  }
 ],
 "metadata": {
  "kernelspec": {
   "display_name": "Python 3 (ipykernel)",
   "language": "python",
   "name": "python3"
  },
  "language_info": {
   "codemirror_mode": {
    "name": "ipython",
    "version": 3
   },
   "file_extension": ".py",
   "mimetype": "text/x-python",
   "name": "python",
   "nbconvert_exporter": "python",
   "pygments_lexer": "ipython3",
   "version": "3.9.10"
  }
 },
 "nbformat": 4,
 "nbformat_minor": 5
}
